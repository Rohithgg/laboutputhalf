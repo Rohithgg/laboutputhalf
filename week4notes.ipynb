{
 "cells": [
  {
   "cell_type": "code",
   "execution_count": null,
   "id": "initial_id",
   "metadata": {
    "collapsed": true
   },
   "outputs": [],
   "source": [
    "# queue\n",
    "def make_queue():\n",
    "    queue = []\n",
    "    return queue\n",
    "\n",
    "\n",
    "def enqueue(queue, value):\n",
    "    queue.append(value)\n",
    "    return queue\n",
    "\n",
    "\n",
    "def dequeue(queue):\n",
    "    queue.pop(1)\n",
    "    return queue\n",
    "\n",
    "\n",
    "def is_empty(queue):\n",
    "    if queue is None:\n",
    "        return 'is empty'\n",
    "    else:\n",
    "        return 'not empty'\n",
    "\n"
   ]
  },
  {
   "metadata": {
    "ExecuteTime": {
     "end_time": "2024-04-22T09:56:26.158132Z",
     "start_time": "2024-04-22T09:56:26.136310Z"
    }
   },
   "cell_type": "code",
   "source": "",
   "id": "7d5a1db66370bb3b",
   "outputs": [
    {
     "name": "stdout",
     "output_type": "stream",
     "text": [
      "[1, 0, 0, 0]\n"
     ]
    }
   ],
   "execution_count": 25
  }
 ],
 "metadata": {
  "kernelspec": {
   "display_name": "Python 3",
   "language": "python",
   "name": "python3"
  },
  "language_info": {
   "codemirror_mode": {
    "name": "ipython",
    "version": 2
   },
   "file_extension": ".py",
   "mimetype": "text/x-python",
   "name": "python",
   "nbconvert_exporter": "python",
   "pygments_lexer": "ipython2",
   "version": "2.7.6"
  }
 },
 "nbformat": 4,
 "nbformat_minor": 5
}
